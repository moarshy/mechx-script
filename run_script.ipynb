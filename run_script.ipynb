{
 "cells": [
  {
   "cell_type": "code",
   "execution_count": 1,
   "metadata": {},
   "outputs": [],
   "source": [
    "import time\n",
    "import random\n",
    "from main import make_mech_request\n",
    "from db import initialize_db, insert_request_id"
   ]
  },
  {
   "cell_type": "code",
   "execution_count": 2,
   "metadata": {},
   "outputs": [],
   "source": [
    "prompts = [\n",
    "    'Will India host the G20 summit in 2024?',\n",
    "    'Will Donald Trump be the Republican nominee for the 2024 US Presidential election?',\n",
    "    'Will the Summer Olympics take place in Paris in 2024?',\n",
    "    'Will the UK rejoin the European Union in 2024?',\n",
    "    'Will Brazil host the FIFA World Cup in 2024?',\n",
    "    'Will Tesla become the most valuable company in the world by 2024?',\n",
    "    'Will the James Webb Space Telescope make a groundbreaking discovery by 2024?',\n",
    "    'Will the global economy enter a recession in 2024?',\n",
    "    'Will a new COVID-19 variant emerge and cause widespread disruptions in 2024?',\n",
    "    'Will the United Nations adopt a new global climate agreement by 2024?',\n",
    "    'Will the European Union introduce a digital currency by 2024?',\n",
    "    'Will NASA send humans to Mars by 2024?',\n",
    "    'Will the UK and the EU finalize a post-Brexit trade deal by 2024?',\n",
    "    'Will China and the US reach a new trade agreement by 2024?',\n",
    "    'Will a new technology breakthrough revolutionize the energy sector by 2024?',\n",
    "    'Will the United States rejoin the Iran nuclear deal by 2024?',\n",
    "    'Will the United Nations achieve any of its Sustainable Development Goals by 2024?',\n",
    "    'Will a new gene-editing technology be approved for human use by 2024?',\n",
    "    'Will a new artificial intelligence system surpass human performance in a specific field by 2024?',\n",
    "    'Will a new space tourism company emerge and send civilians to space by 2024?',\n",
    "    'Will Russia and Ukraine reach a peace agreement by 2024?',\n",
    "    'Will a new medical breakthrough significantly extend human lifespan by 2024?',\n",
    "    \"Will the world's first quantum computer become operational by 2024?\",\n",
    "    'Will a new renewable energy source become commercially viable by 2024?',\n",
    "    'Will a new social media platform overtake Facebook or Twitter by 2024?',\n",
    "    'Will a new cryptocurrency emerge as a major global currency by 2024?',\n",
    "    'Will a new autonomous vehicle company dominate the self-driving car market by 2024?',\n",
    "    \"Will a new cyber attack target a major country's infrastructure by 2024?\",\n",
    "    'Will a new cancer treatment prove to be a significant breakthrough by 2024?',\n",
    "    'Will a new space exploration mission discover evidence of extraterrestrial life by 2024?',\n",
    "    'Will a new climate change mitigation technology be widely adopted by 2024?',\n",
    "    'Will a new international trade agreement be ratified by major economies by 2024?',\n",
    "    'Will a new pandemic outbreak occur and affect the global economy by 2024?',\n",
    "    'Will a new major conflict or war break out in a specific region by 2024?',\n",
    "    'Will a new major merger or acquisition shake up a particular industry by 2024?',\n",
    "    'Will a new election process or voting technology be implemented in a major democracy by 2024?',\n",
    "    'Will a new environmental disaster or crisis unfold in a specific region by 2024?',\n",
    "    'Will a new scientific discovery challenge our current understanding of the universe by 2024?',\n",
    "    'Will a new human rights issue or movement gain global attention by 2024?',\n",
    "    'Will a new major sports league or tournament be established by 2024?',\n",
    "    'Will a new major natural disaster strike a specific region by 2024?',\n",
    "    'Will a new major political scandal emerge in a particular country by 2024?',\n",
    "    'Will a new major terrorist attack occur in a specific region by 2024?',\n",
    "    'Will a new major data breach or cybersecurity incident affect a global company by 2024?',\n",
    "    'Will a new major technological advancement disrupt a particular industry by 2024?',\n",
    "    'Will a new major economic policy or reform be implemented in a major economy by 2024?',\n",
    "    'Will a new major environmental policy or regulation be adopted by a significant number of countries by 2024?',\n",
    "    'Will a new major humanitarian crisis unfold in a specific region by 2024?',\n",
    "    'Will a new major cultural or social movement gain global prominence by 2024?',\n",
    "    'Will a new major scientific breakthrough or innovation occur in a particular field by 2024?'\n",
    "]"
   ]
  },
  {
   "cell_type": "code",
   "execution_count": 3,
   "metadata": {},
   "outputs": [
    {
     "name": "stdout",
     "output_type": "stream",
     "text": [
      "Prompt uploaded: https://gateway.autonolas.tech/ipfs/f017012206448b408bcd4f0b9d43dab0e6d508abca7c375e52dfc660c2b1182d1be891bde\n",
      "Transaction sent: https://gnosisscan.io/tx/0x4b0fa2bf3513f26cbc021f8a62e10b1d09837b09e2575c9f56c422b9bdbd7db1\n",
      "Request ID: 42410100133695831852986900186968903264093809501498882365308657511724372362753\n",
      "Time taken: 12.10152006149292 seconds\n"
     ]
    }
   ],
   "source": [
    "start_time = time.time()\n",
    "initialize_db()\n",
    "\n",
    "prompt = random.choice(prompts)\n",
    "agent_id = 6\n",
    "num_calls=1\n",
    "tool = 'prediction-offline'\n",
    "extras = {'model': 'gpt-4-0125-preview'}\n",
    "# extras = None\n",
    "\n",
    "for i in range(num_calls):\n",
    "    try:\n",
    "        request_id = await make_mech_request(prompt, agent_id, tool=tool, extra_attributes=extras)\n",
    "        if request_id is not None:\n",
    "            insert_request_id(request_id)\n",
    "    except Exception as e:\n",
    "        print(e)\n",
    "        continue\n",
    "\n",
    "print(f\"Time taken: {time.time() - start_time} seconds\")"
   ]
  },
  {
   "cell_type": "code",
   "execution_count": null,
   "metadata": {},
   "outputs": [],
   "source": []
  }
 ],
 "metadata": {
  "kernelspec": {
   "display_name": "mechx2",
   "language": "python",
   "name": "python3"
  },
  "language_info": {
   "codemirror_mode": {
    "name": "ipython",
    "version": 3
   },
   "file_extension": ".py",
   "mimetype": "text/x-python",
   "name": "python",
   "nbconvert_exporter": "python",
   "pygments_lexer": "ipython3",
   "version": "3.12.2"
  },
  "orig_nbformat": 4
 },
 "nbformat": 4,
 "nbformat_minor": 2
}
