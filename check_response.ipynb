{
 "cells": [
  {
   "cell_type": "code",
   "execution_count": 8,
   "metadata": {},
   "outputs": [],
   "source": [
    "from db import (\n",
    "    get_pending_request_ids, \n",
    "    get_completed_requests, \n",
    "    count_completed_requests, \n",
    "    count_pending_requests,\n",
    "    update_response,\n",
    "    remove_request_id,\n",
    "    remove_requests_with_none_id\n",
    ")\n",
    "\n",
    "import time\n",
    "\n",
    "from main import modified_watch_for_data_url_from_subgraph"
   ]
  },
  {
   "cell_type": "code",
   "execution_count": 12,
   "metadata": {},
   "outputs": [
    {
     "data": {
      "text/plain": [
       "0"
      ]
     },
     "execution_count": 12,
     "metadata": {},
     "output_type": "execute_result"
    }
   ],
   "source": [
    "count_pending_requests()"
   ]
  },
  {
   "cell_type": "code",
   "execution_count": 13,
   "metadata": {},
   "outputs": [
    {
     "data": {
      "text/plain": [
       "253"
      ]
     },
     "execution_count": 13,
     "metadata": {},
     "output_type": "execute_result"
    }
   ],
   "source": [
    "count_completed_requests()"
   ]
  },
  {
   "cell_type": "code",
   "execution_count": 11,
   "metadata": {},
   "outputs": [
    {
     "name": "stdout",
     "output_type": "stream",
     "text": [
      "Number of requests pending: 27\n",
      "Number of requests pending: 0\n"
     ]
    }
   ],
   "source": [
    "response = []\n",
    "while True:\n",
    "    request_ids = get_pending_request_ids()\n",
    "    print(f\"Number of requests pending: {len(request_ids)}\")\n",
    "\n",
    "    try:\n",
    "        if len(request_ids) == 0:\n",
    "            break\n",
    "        for request_id in request_ids:\n",
    "            if request_id is not None:\n",
    "                res = await modified_watch_for_data_url_from_subgraph(request_id)\n",
    "                if res is not None:\n",
    "                    update_response(request_id, res)\n",
    "                    response.append((request_id, res))\n",
    "        time.sleep(5)\n",
    "    except Exception as e:\n",
    "        print(f\"Error: {e}\")"
   ]
  },
  {
   "cell_type": "code",
   "execution_count": null,
   "metadata": {},
   "outputs": [],
   "source": []
  }
 ],
 "metadata": {
  "kernelspec": {
   "display_name": "mechx2",
   "language": "python",
   "name": "python3"
  },
  "language_info": {
   "codemirror_mode": {
    "name": "ipython",
    "version": 3
   },
   "file_extension": ".py",
   "mimetype": "text/x-python",
   "name": "python",
   "nbconvert_exporter": "python",
   "pygments_lexer": "ipython3",
   "version": "3.12.2"
  },
  "orig_nbformat": 4
 },
 "nbformat": 4,
 "nbformat_minor": 2
}
